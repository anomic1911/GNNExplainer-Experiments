{
  "nbformat": 4,
  "nbformat_minor": 0,
  "metadata": {
    "colab": {
      "name": "GNN-Explainer.ipynb",
      "provenance": [],
      "collapsed_sections": []
    },
    "kernelspec": {
      "name": "python3",
      "display_name": "Python 3"
    },
    "accelerator": "GPU"
  },
  "cells": [
    {
      "cell_type": "code",
      "metadata": {
        "id": "OIbopB8vQbBd",
        "colab_type": "code",
        "colab": {
          "base_uri": "https://localhost:8080/",
          "height": 35
        },
        "outputId": "1594bb33-c829-46c1-9dab-70c26c4c124d"
      },
      "source": [
        "cd drive/My\\ Drive/COL868/gnn-model-explainer"
      ],
      "execution_count": 2,
      "outputs": [
        {
          "output_type": "stream",
          "text": [
            "/content/drive/My Drive/COL868/gnn-model-explainer\n"
          ],
          "name": "stdout"
        }
      ]
    },
    {
      "cell_type": "code",
      "metadata": {
        "colab_type": "code",
        "outputId": "b4a48d01-6ba8-4162-cb5b-20525038906b",
        "id": "nCbE3jDnOjBa",
        "colab": {
          "base_uri": "https://localhost:8080/",
          "height": 181
        }
      },
      "source": [
        "!pip install tensorboardx   "
      ],
      "execution_count": 4,
      "outputs": [
        {
          "output_type": "stream",
          "text": [
            "Collecting tensorboardx\n",
            "\u001b[?25l  Downloading https://files.pythonhosted.org/packages/35/f1/5843425495765c8c2dd0784a851a93ef204d314fc87bcc2bbb9f662a3ad1/tensorboardX-2.0-py2.py3-none-any.whl (195kB)\n",
            "\r\u001b[K     |█▊                              | 10kB 16.6MB/s eta 0:00:01\r\u001b[K     |███▍                            | 20kB 20.0MB/s eta 0:00:01\r\u001b[K     |█████                           | 30kB 21.9MB/s eta 0:00:01\r\u001b[K     |██████▊                         | 40kB 24.2MB/s eta 0:00:01\r\u001b[K     |████████▍                       | 51kB 26.3MB/s eta 0:00:01\r\u001b[K     |██████████                      | 61kB 27.9MB/s eta 0:00:01\r\u001b[K     |███████████▊                    | 71kB 28.7MB/s eta 0:00:01\r\u001b[K     |█████████████▍                  | 81kB 29.3MB/s eta 0:00:01\r\u001b[K     |███████████████                 | 92kB 29.9MB/s eta 0:00:01\r\u001b[K     |████████████████▊               | 102kB 30.5MB/s eta 0:00:01\r\u001b[K     |██████████████████▍             | 112kB 30.5MB/s eta 0:00:01\r\u001b[K     |████████████████████            | 122kB 30.5MB/s eta 0:00:01\r\u001b[K     |█████████████████████▊          | 133kB 30.5MB/s eta 0:00:01\r\u001b[K     |███████████████████████▌        | 143kB 30.5MB/s eta 0:00:01\r\u001b[K     |█████████████████████████▏      | 153kB 30.5MB/s eta 0:00:01\r\u001b[K     |██████████████████████████▉     | 163kB 30.5MB/s eta 0:00:01\r\u001b[K     |████████████████████████████▌   | 174kB 30.5MB/s eta 0:00:01\r\u001b[K     |██████████████████████████████▏ | 184kB 30.5MB/s eta 0:00:01\r\u001b[K     |███████████████████████████████▉| 194kB 30.5MB/s eta 0:00:01\r\u001b[K     |████████████████████████████████| 204kB 30.5MB/s \n",
            "\u001b[?25hRequirement already satisfied: six in /usr/local/lib/python3.6/dist-packages (from tensorboardx) (1.12.0)\n",
            "Requirement already satisfied: numpy in /usr/local/lib/python3.6/dist-packages (from tensorboardx) (1.17.5)\n",
            "Requirement already satisfied: protobuf>=3.8.0 in /usr/local/lib/python3.6/dist-packages (from tensorboardx) (3.10.0)\n",
            "Requirement already satisfied: setuptools in /usr/local/lib/python3.6/dist-packages (from protobuf>=3.8.0->tensorboardx) (45.1.0)\n",
            "Installing collected packages: tensorboardx\n",
            "Successfully installed tensorboardx-2.0\n"
          ],
          "name": "stdout"
        }
      ]
    },
    {
      "cell_type": "code",
      "metadata": {
        "id": "Df5yHQFLS6yY",
        "colab_type": "code",
        "colab": {}
      },
      "source": [
        "!sh example.sh"
      ],
      "execution_count": 0,
      "outputs": []
    },
    {
      "cell_type": "code",
      "metadata": {
        "id": "AJj293YROcJH",
        "colab_type": "code",
        "colab": {}
      },
      "source": [
        "%load_ext tensorboard\n",
        "%tensorboard --logdir log"
      ],
      "execution_count": 0,
      "outputs": []
    }
  ]
}